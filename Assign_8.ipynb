{
 "cells": [
  {
   "cell_type": "code",
   "execution_count": 1,
   "id": "64a62031-a934-4812-9e9a-c9a826502a58",
   "metadata": {},
   "outputs": [],
   "source": [
    "### 1)\n",
    "import requests\n",
    "from bs4 import BeautifulSoup\n",
    "\n",
    "def extract_video_urls(url, num_videos):\n",
    "    response = requests.get(url)\n",
    "    soup = BeautifulSoup(response.text, 'html.parser')\n",
    "\n",
    "    video_urls = []\n",
    "    videos = soup.find_all('video')[:num_videos]\n",
    "    for video in videos:\n",
    "        source = video.find('source')\n",
    "        if source and 'src' in source.attrs:\n",
    "            video_url = source['src']\n",
    "            video_urls.append(video_url)\n",
    "\n",
    "    return video_urls\n",
    "\n",
    "# Example usage\n",
    "url = 'https://www.example.com/videos'\n",
    "num_videos = 5\n",
    "video_urls = extract_video_urls(url, num_videos)\n",
    "\n",
    "for i, video_url in enumerate(video_urls):\n",
    "    print(f\"Video {i+1}: {video_url}\")\n"
   ]
  },
  {
   "cell_type": "code",
   "execution_count": 2,
   "id": "e3eb2b0a-c006-4985-a11a-a368df0bc3b5",
   "metadata": {},
   "outputs": [],
   "source": [
    "### 2)\n",
    "import requests\n",
    "from bs4 import BeautifulSoup\n",
    "\n",
    "def extract_thumbnail_urls(url, num_videos):\n",
    "    response = requests.get(url)\n",
    "    soup = BeautifulSoup(response.text, 'html.parser')\n",
    "\n",
    "    thumbnail_urls = []\n",
    "    videos = soup.find_all('video')[:num_videos]\n",
    "    for video in videos:\n",
    "        poster = video.get('poster')\n",
    "        if poster:\n",
    "            thumbnail_urls.append(poster)\n",
    "\n",
    "    return thumbnail_urls\n",
    "\n",
    "# Example usage\n",
    "url = 'https://www.example.com/videos'\n",
    "num_videos = 5\n",
    "thumbnail_urls = extract_thumbnail_urls(url, num_videos)\n",
    "\n",
    "for i, thumbnail_url in enumerate(thumbnail_urls):\n",
    "    print(f\"Thumbnail {i+1}: {thumbnail_url}\")\n"
   ]
  },
  {
   "cell_type": "code",
   "execution_count": null,
   "id": "7739c56d-d961-47a5-a852-9bee8c21916e",
   "metadata": {},
   "outputs": [],
   "source": [
    "### 3)\n"
   ]
  }
 ],
 "metadata": {
  "kernelspec": {
   "display_name": "Python 3 (ipykernel)",
   "language": "python",
   "name": "python3"
  },
  "language_info": {
   "codemirror_mode": {
    "name": "ipython",
    "version": 3
   },
   "file_extension": ".py",
   "mimetype": "text/x-python",
   "name": "python",
   "nbconvert_exporter": "python",
   "pygments_lexer": "ipython3",
   "version": "3.10.8"
  }
 },
 "nbformat": 4,
 "nbformat_minor": 5
}
